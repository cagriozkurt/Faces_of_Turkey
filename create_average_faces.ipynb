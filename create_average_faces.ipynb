{
 "cells": [
  {
   "cell_type": "code",
   "execution_count": null,
   "metadata": {},
   "outputs": [],
   "source": [
    "from facer import facer\n",
    "import os"
   ]
  },
  {
   "cell_type": "code",
   "execution_count": null,
   "metadata": {},
   "outputs": [],
   "source": [
    "# Download pre-trained face landmark data, extract it from the archive, and delete the archive.\n",
    "\n",
    "!wget http://dlib.net/files/shape_predictor_68_face_landmarks.dat.bz2 -P dlib\n",
    "!bzip2 -dc dlib/shape_predictor_68_face_landmarks.dat.bz2 > dlib/shape_predictor_68_face_landmarks.dat\n",
    "!rm dlib/shape_predictor_68_face_landmarks.dat.bz2"
   ]
  },
  {
   "cell_type": "code",
   "execution_count": null,
   "metadata": {},
   "outputs": [],
   "source": [
    "base_path = os.path.join(os.getcwd(), \"pics\")\n",
    "for d in os.listdir(base_path):\n",
    "    os.chdir(os.path.join(base_path, d))\n",
    "    print(d)\n",
    "    images = facer.load_images(os.path.join(base_path, d))\n",
    "    landmarks, faces = facer.detect_face_landmarks(images)\n",
    "    average_face = facer.create_average_face(faces, landmarks, save_image=True)"
   ]
  }
 ],
 "metadata": {
  "kernelspec": {
   "display_name": "Python 3.10.7 ('venv': venv)",
   "language": "python",
   "name": "python3"
  },
  "language_info": {
   "codemirror_mode": {
    "name": "ipython",
    "version": 3
   },
   "file_extension": ".py",
   "mimetype": "text/x-python",
   "name": "python",
   "nbconvert_exporter": "python",
   "pygments_lexer": "ipython3",
   "version": "3.10.7"
  },
  "orig_nbformat": 4,
  "vscode": {
   "interpreter": {
    "hash": "62d1eb29c9dda945695b748e2afc09ad9a7821ee1ab17b5c1c9d86fe39d47ab3"
   }
  }
 },
 "nbformat": 4,
 "nbformat_minor": 2
}
